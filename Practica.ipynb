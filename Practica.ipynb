{
  "nbformat": 4,
  "nbformat_minor": 0,
  "metadata": {
    "colab": {
      "provenance": [],
      "authorship_tag": "ABX9TyOO5y3Mky1PFNAzygbvh6wf",
      "include_colab_link": true
    },
    "kernelspec": {
      "name": "python3",
      "display_name": "Python 3"
    },
    "language_info": {
      "name": "python"
    }
  },
  "cells": [
    {
      "cell_type": "markdown",
      "metadata": {
        "id": "view-in-github",
        "colab_type": "text"
      },
      "source": [
        "<a href=\"https://colab.research.google.com/github/cristianq24/Artificial-Intelligence/blob/master/Practica.ipynb\" target=\"_parent\"><img src=\"https://colab.research.google.com/assets/colab-badge.svg\" alt=\"Open In Colab\"/></a>"
      ]
    },
    {
      "cell_type": "code",
      "execution_count": 2,
      "metadata": {
        "colab": {
          "base_uri": "https://localhost:8080/"
        },
        "id": "2w8pzakMwLbY",
        "outputId": "23c28467-fd5d-48e0-e052-684ccb9d3a73"
      },
      "outputs": [
        {
          "output_type": "stream",
          "name": "stdout",
          "text": [
            "INGRESE EL NOMBRE : uefyufe\n",
            "INGRESE LOS APELLIDOS : uwguegfje\n",
            "uwguegfje, uefyufe\n"
          ]
        }
      ],
      "source": [
        "#Escriba un programa en Python que acepte el nombre y \n",
        "#los apellidos de una persona y los imprima en orden\n",
        "#inverso separados por una coma. Utilice f-strings\n",
        "#para implementarlo\n",
        "\n",
        "def imp_datos_inversos(nom, apell):\n",
        "    nombre_completo = f\"{apell}, {nom}\"\n",
        "    print(nombre_completo)\n",
        "\n",
        "# Ingresar entrada a los usuarios\n",
        "nom = input(\"INGRESE EL NOMBRE : \")   #Ingresamos el nombre mediante imput\n",
        "apell = input(\"INGRESE LOS APELLIDOS : \")  #Ingresamos los apellidos mediante imput\n",
        "\n",
        "imp_datos_inversos(nom, apell)\n",
        "j"
      ]
    },
    {
      "cell_type": "code",
      "source": [
        "#Escriba un programa en Python que acepte dos cadenas de texto\n",
        "#y compute el producto cartesiano letra a letra entre ellas.\n",
        "\n",
        "def prod_cartesiano(cadena1, cadena2):  #\n",
        "    resultado = []\n",
        "    for letra1 in cadena1:\n",
        "        for letra2 in cadena2:\n",
        "            resultado.append((letra1, letra2))\n",
        "    return resultado\n",
        "\n",
        "# Pedir entrada al usuario\n",
        "cadena1 = input(\"INGRESAR EL PRIMER NUMERO : \")\n",
        "cadena2 = input(\"INGRESAR EL SEGUNDO NUMERO : \")\n",
        "\n",
        "# Calcular el producto cartesiano\n",
        "resultado_cartesiano = prod_cartesiano(cadena1, cadena2)\n",
        "\n",
        "# Imprimir el resultado\n",
        "print(\"Producto cartesiano:\")\n",
        "for pareja in resultado_cartesiano:\n",
        "    print(pareja)"
      ],
      "metadata": {
        "id": "WY4IiTdWwVMx"
      },
      "execution_count": null,
      "outputs": []
    },
    {
      "cell_type": "code",
      "source": [
        "#Escriba un programa en Python que acepte dos valores enteros (x e y) que \n",
        "#representarán un punto (objetivo) en el plano. El programa simulará el \n",
        "#movimiento de un «caballo» de ajedrez moviéndose de forma alterna: 2 \n",
        "#posiciones en x + 1 posición en y. El siguiente movimiento que toque sería\n",
        "#para moverse 1 posición en x + 2 posiciones en y.\n",
        "#El programa deberá ir mostrando los puntos por los que va pasando \n",
        "#el «caballo» hasta llegar al punto objetivo\n",
        "\n",
        "def mover_caballo_de_ajedrez(x, y, obj_x, obj_y):\n",
        "    while (x, y) != (obj_x, obj_y):\n",
        "        print(f\"Posición actual: ({x}, {y})\")\n",
        "        if x < obj_x:\n",
        "            x += 2\n",
        "        elif x > obj_x:\n",
        "            x -= 2\n",
        "        \n",
        "        if y < obj_y:\n",
        "            y += 1\n",
        "        elif y > obj_y:\n",
        "            y -= 1\n",
        "        \n",
        "    print(f\"¡ENHORABUENA! Llegaste al punto del objetivo: ({obj_x}, {obj_y})!\")\n",
        "\n",
        "x = int(input(\"INGRESA LA POSICION ACTUAL DE X : \"))\n",
        "y = int(input(\"INGRESA LA POSICION ACTUAL DE Y : \"))\n",
        "obj_x = int(input(\"DONDE DESEAS INGRESAR X PARA EL PUNTO DEL OBJETIVO : \"))\n",
        "obj_y = int(input(\"DONDE DESEAS INGRESAR Y PARA EL PUNTO DEL OBJETIVO : \"))\n",
        "\n",
        "# Mover el caballo hasta el punto objetivo\n",
        "mover_caballo_de_ajedrez(x, y, obj_x, obj_y)"
      ],
      "metadata": {
        "id": "J1teA2ECyFW3"
      },
      "execution_count": null,
      "outputs": []
    },
    {
      "cell_type": "code",
      "source": [
        "#Escriba un programa en Python que acepte una lista y elimine sus\n",
        "#elementos duplicados\n",
        "def eliminar_duplicados(lista):\n",
        "    lista_sin_duplicados = list(set(lista))\n",
        "    return lista_sin_duplicados\n",
        "\n",
        "# Pedir entrada al usuario\n",
        "elementos = input(\"Ingrese los elementos de la lista separados por espacios: \").split()\n",
        "\n",
        "# Convertir los elementos a una lista\n",
        "lista = [int(elemento) for elemento in elementos]\n",
        "\n",
        "# Eliminar duplicados\n",
        "lista_sin_duplicados = eliminar_duplicados(lista)\n",
        "\n",
        "# Imprimir la lista sin duplicados\n",
        "print(\"Lista sin duplicados:\", lista_sin_duplicados)"
      ],
      "metadata": {
        "id": "qGsu5UKRyUe-"
      },
      "execution_count": null,
      "outputs": []
    },
    {
      "cell_type": "code",
      "source": [
        "#Escriba un programa en Python que acepte una lista y genere otra lista \n",
        "Numeros =  { 1, 1, 1, 2, 2, 3, 4, 4, 5, 6, 7, 9, 9, 10, 11, 11, 12, 15, 20, \n",
        "          20, 25, 30, 30, 30, 35, 50, 50, 50, 50, 50, 80, 80, 100}\n",
        "#Nos imprime los resultados de numero que no deben de duplicarse\n",
        "print(Numeros) "
      ],
      "metadata": {
        "id": "Mf2UJAdyyWE8"
      },
      "execution_count": null,
      "outputs": []
    },
    {
      "cell_type": "code",
      "source": [
        "#Escriba un programa en Python que acepte una lista de listas representando\n",
        "#una matriz numérica y compute la suma de los elementos de la diagonal principal\n",
        "def sum_diago_principal(matriz):\n",
        "    suma = 0\n",
        "    for i in range(len(matriz)):\n",
        "        suma += matriz[i][i]\n",
        "    return suma\n",
        "\n",
        "#Ingrese filas y columnas de numeros que desean ingresar\n",
        "filas = int(input(\"INGRESAR NUMERO DE FILAS : \"))  #filas de numeros\n",
        "columnas = int(input(\"INGRESAR NUMERO DE COLUMNAS : \"))#columnas de numeros\n",
        "\n",
        "matriz = []\n",
        "for i in range(filas):\n",
        "    fila = []\n",
        "    for j in range(columnas):\n",
        "        elemento = int(input(f\"INGRESE EL NUMERO[{i}][{j}] : \"))\n",
        "        fila.append(elemento)\n",
        "    matriz.append(fila)\n",
        "\n",
        "sum_diagonal = sum_diago_principal(matriz)\n",
        "\n",
        "print(\"LA SUMA DE LA PRIMERA FILA ES :\", sum_diagonal)\n"
      ],
      "metadata": {
        "id": "7DWoDQ-vyYeb"
      },
      "execution_count": null,
      "outputs": []
    },
    {
      "cell_type": "code",
      "source": [
        "#Escriba un programa en Python que acepte una lista de palabras y\n",
        "#las agrupe por su letra inicial usando un diccionario (solución).\n",
        "\n",
        "def agrupacion__letra_inicial(lista_de_palabras):\n",
        "    grupos = {}\n",
        "    for palabra in lista_de_palabras:\n",
        "        inicio_letra = palabra[0]\n",
        "        if inicio_letra in grupos:\n",
        "            grupos[inicio_letra].append(palabra)\n",
        "        else:\n",
        "            grupos[inicio_letra] = [palabra]\n",
        "    return grupos\n",
        "\n",
        "# Pedir entrada al usuario\n",
        "palabras = input(\"IMGRESAR DISTINTAS PALABRAS SEPARADAS : \").split()\n",
        "\n",
        "# Agrupar palabras por letra inicial\n",
        "grupos_de_palabras = agrupacion__letra_inicial(palabras)\n",
        "\n",
        "# Imprimir grupos de palabras\n",
        "print(\"!!!LOS GRUPOS DE LAS PALABRAS SON!!!:\")\n",
        "for inicio_letra, grupo in grupos_de_palabras.items():\n",
        "    print(f\"{inicio_letra}: {grupo}\")"
      ],
      "metadata": {
        "id": "t_-FO_eNykgo"
      },
      "execution_count": null,
      "outputs": []
    },
    {
      "cell_type": "code",
      "source": [],
      "metadata": {
        "id": "NFv_xrQCyhRi"
      },
      "execution_count": null,
      "outputs": []
    }
  ]
}